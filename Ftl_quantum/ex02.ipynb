{
 "cells": [
  {
   "cell_type": "code",
   "id": "initial_id",
   "metadata": {},
   "source": [
    "import matplotlib.pyplot as plt\n",
    "from qiskit import QuantumCircuit, QuantumRegister, ClassicalRegister, Aer"
   ],
   "outputs": [],
   "execution_count": null
  },
  {
   "metadata": {},
   "cell_type": "markdown",
   "source": [
    "# 1. Create a quantum circuit with one qubit and draw it\n",
    "**h** is a quantum gate that puts a qubit in a superposition state. The quantum circuit below creates a qubit in a superposition state and **measures** it.\n"
   ],
   "id": "5d378531dffa837d"
  },
  {
   "cell_type": "code",
   "id": "348147c4dd9a8380",
   "metadata": {
    "scrolled": true,
    "ExecuteTime": {
     "end_time": "2024-04-14T02:42:00.823470Z",
     "start_time": "2024-04-14T02:42:00.771124Z"
    }
   },
   "source": [
    "circuit = QuantumCircuit(1, 1)\n",
    "\n",
    "circuit.h(0)\n",
    "circuit.measure(0, 0)\n",
    "circuit.draw()"
   ],
   "outputs": [
    {
     "data": {
      "text/plain": [
       "     ┌───┐┌─┐\n",
       "  q: ┤ H ├┤M├\n",
       "     └───┘└╥┘\n",
       "c: 1/══════╩═\n",
       "           0 "
      ],
      "text/html": [
       "<pre style=\"word-wrap: normal;white-space: pre;background: #fff0;line-height: 1.1;font-family: &quot;Courier New&quot;,Courier,monospace\">     ┌───┐┌─┐\n",
       "  q: ┤ H ├┤M├\n",
       "     └───┘└╥┘\n",
       "c: 1/══════╩═\n",
       "           0 </pre>"
      ]
     },
     "execution_count": 4,
     "metadata": {},
     "output_type": "execute_result"
    }
   ],
   "execution_count": 4
  },
  {
   "metadata": {},
   "cell_type": "markdown",
   "source": [
    "# 2. Simulate the circuit\n",
    "We will simulate the circuit using the `qasm_simulator` backend. The circuit will be run 500 times."
   ],
   "id": "82bbc0f9eabe39f2"
  },
  {
   "cell_type": "code",
   "id": "1a20c1ca-7fff-48c4-860c-5b8288e4d2ba",
   "metadata": {
    "ExecuteTime": {
     "end_time": "2024-04-14T02:42:03.635139Z",
     "start_time": "2024-04-14T02:42:03.539391Z"
    }
   },
   "source": [
    "backend = Aer.get_backend('qasm_simulator')\n",
    "\n",
    "n_shots = 500\n",
    "\n",
    "job = backend.run(circuit, shots=n_shots)\n",
    "result = job.result()\n",
    "counts = result.get_counts(circuit)\n",
    "\n",
    "zero = counts['0'] / n_shots\n",
    "one = counts['1'] / n_shots\n",
    "\n",
    "bars = plt.bar(['0', '1'], [zero, one])\n",
    "\n",
    "for bar in bars:\n",
    "    yval = bar.get_height()\n",
    "    plt.text(bar.get_x() + bar.get_width()/2.0, yval, round(yval, 3), va='bottom')"
   ],
   "outputs": [
    {
     "data": {
      "text/plain": [
       "<Figure size 640x480 with 1 Axes>"
      ],
      "image/png": "[encoded data removed]"
     },
     "metadata": {},
     "output_type": "display_data"
    }
   ],
   "execution_count": 5
  }
 ],
 "metadata": {
  "kernelspec": {
   "display_name": "Python 3 (ipykernel)",
   "language": "python",
   "name": "python3"
  },
  "language_info": {
   "codemirror_mode": {
    "name": "ipython",
    "version": 3
   },
   "file_extension": ".py",
   "mimetype": "text/x-python",
   "name": "python",
   "nbconvert_exporter": "python",
   "pygments_lexer": "ipython3",
   "version": "3.10.12"
  }
 },
 "nbformat": 4,
 "nbformat_minor": 5
}
