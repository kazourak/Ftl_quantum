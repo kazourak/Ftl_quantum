{
 "cells": [
  {
   "metadata": {
    "ExecuteTime": {
     "end_time": "2024-04-21T13:16:50.066371Z",
     "start_time": "2024-04-21T13:16:50.064038Z"
    }
   },
   "cell_type": "code",
   "source": "import config",
   "id": "107453b04a4a9e7b",
   "outputs": [],
   "execution_count": 96
  },
  {
   "cell_type": "code",
   "id": "initial_id",
   "metadata": {
    "collapsed": true,
    "jupyter": {
     "outputs_hidden": true
    },
    "ExecuteTime": {
     "end_time": "2024-04-21T13:16:50.077596Z",
     "start_time": "2024-04-21T13:16:50.075368Z"
    }
   },
   "source": [
    "import matplotlib.pyplot as plt\n",
    "from qiskit_ibm_provider import IBMProvider\n",
    "from qiskit import QuantumCircuit, transpile\n",
    "from qiskit.providers.jobstatus import JobStatus"
   ],
   "outputs": [],
   "execution_count": 97
  },
  {
   "metadata": {
    "ExecuteTime": {
     "end_time": "2024-04-21T13:16:50.093600Z",
     "start_time": "2024-04-21T13:16:50.078514Z"
    }
   },
   "cell_type": "code",
   "source": "IBMProvider.save_account(token=config.IBMQ_TOKEN, overwrite=True)",
   "id": "8c4f5263539e08ac",
   "outputs": [],
   "execution_count": 98
  },
  {
   "cell_type": "code",
   "id": "596926d189e3c0e4",
   "metadata": {
    "ExecuteTime": {
     "end_time": "2024-04-21T13:16:50.100148Z",
     "start_time": "2024-04-21T13:16:50.094857Z"
    }
   },
   "source": [
    "circuit = QuantumCircuit(2, 2)\n",
    "\n",
    "circuit.h(0)\n",
    "circuit.cx(0, 1)\n",
    "circuit.barrier()\n",
    "circuit.measure(0, 0)\n",
    "circuit.measure(1, 1)\n",
    "circuit.draw()"
   ],
   "outputs": [
    {
     "data": {
      "text/plain": [
       "     ┌───┐      ░ ┌─┐   \n",
       "q_0: ┤ H ├──■───░─┤M├───\n",
       "     └───┘┌─┴─┐ ░ └╥┘┌─┐\n",
       "q_1: ─────┤ X ├─░──╫─┤M├\n",
       "          └───┘ ░  ║ └╥┘\n",
       "c: 2/══════════════╩══╩═\n",
       "                   0  1 "
      ],
      "text/html": [
       "<pre style=\"word-wrap: normal;white-space: pre;background: #fff0;line-height: 1.1;font-family: &quot;Courier New&quot;,Courier,monospace\">     ┌───┐      ░ ┌─┐   \n",
       "q_0: ┤ H ├──■───░─┤M├───\n",
       "     └───┘┌─┴─┐ ░ └╥┘┌─┐\n",
       "q_1: ─────┤ X ├─░──╫─┤M├\n",
       "          └───┘ ░  ║ └╥┘\n",
       "c: 2/══════════════╩══╩═\n",
       "                   0  1 </pre>"
      ]
     },
     "execution_count": 99,
     "metadata": {},
     "output_type": "execute_result"
    }
   ],
   "execution_count": 99
  },
  {
   "metadata": {},
   "cell_type": "markdown",
   "source": "",
   "id": "84db40a6ab810209"
  },
  {
   "metadata": {},
   "cell_type": "markdown",
   "source": [
    "# 1. Run the circuit on a real quantum computer\n",
    "\n",
    "The following code block runs the circuit on a **real quantum computer**. If you want to use the latest job, set `use_latest_job` to `True`. If you want to run a new job, set `use_latest_job` to `False`. The code will then run the circuit on the selected backend and retrieve the results."
   ],
   "id": "299a5ad95bc19558"
  },
  {
   "cell_type": "code",
   "id": "fa82ce5879a081d4",
   "metadata": {
    "ExecuteTime": {
     "end_time": "2024-04-21T13:16:54.859509Z",
     "start_time": "2024-04-21T13:16:50.100952Z"
    }
   },
   "source": [
    "provider = IBMProvider()\n",
    "\n",
    "selected_backend = \"ibm_kyoto\"\n",
    "use_latest_job = True\n",
    "nb_shots = 500\n",
    "job = None\n",
    "\n",
    "if use_latest_job:\n",
    "    print(\"Using latest job.\")\n",
    "    job = provider.retrieve_job(\"crjgy18wverg008w0kag\")\n",
    "    job_id = job.job_id()\n",
    "else:\n",
    "    print(\"Running new job.\")\n",
    "    backend = provider.get_backend(selected_backend)\n",
    "\n",
    "    qc_basic = transpile(circuit, backend)\n",
    "    job = backend.run(qc_basic, shots=nb_shots)\n",
    "    job_id = job.job_id()\n",
    "    \n",
    "    while job.status() != JobStatus.DONE:\n",
    "        pass\n",
    "\n",
    "result = job.result()\n",
    "counts = result.get_counts()\n",
    "\n",
    "d_zero = counts[\"00\"] / nb_shots\n",
    "d_one = counts[\"11\"] / nb_shots\n",
    "zero_one = counts[\"01\"] / nb_shots\n",
    "one_zero = counts[\"10\"] / nb_shots\n",
    "\n",
    "bars = plt.bar([\"00\", \"11\", \"01\", \"10\"], [d_zero, d_one, zero_one, one_zero])\n",
    "\n",
    "for bar in bars:\n",
    "    yval = bar.get_height()\n",
    "    plt.text(bar.get_x() + bar.get_width()/3.0, yval, round(yval, 3), va='bottom')\n"
   ],
   "outputs": [
    {
     "name": "stdout",
     "output_type": "stream",
     "text": [
      "Using latest job.\n"
     ]
    },
    {
     "data": {
      "text/plain": [
       "<Figure size 640x480 with 1 Axes>"
      ],
      "image/png": "[encoded data removed]"
     },
     "metadata": {},
     "output_type": "display_data"
    }
   ],
   "execution_count": 100
  }
 ],
 "metadata": {
  "kernelspec": {
   "display_name": "Python 3 (ipykernel)",
   "language": "python",
   "name": "python3"
  },
  "language_info": {
   "codemirror_mode": {
    "name": "ipython",
    "version": 3
   },
   "file_extension": ".py",
   "mimetype": "text/x-python",
   "name": "python",
   "nbconvert_exporter": "python",
   "pygments_lexer": "ipython3",
   "version": "3.10.12"
  }
 },
 "nbformat": 4,
 "nbformat_minor": 5
}
