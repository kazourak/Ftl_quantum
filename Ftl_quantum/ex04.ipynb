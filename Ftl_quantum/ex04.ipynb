{
 "cells": [
  {
   "metadata": {
    "ExecuteTime": {
     "end_time": "2024-04-14T02:57:20.818307Z",
     "start_time": "2024-04-14T02:57:20.815998Z"
    }
   },
   "cell_type": "code",
   "source": "import config",
   "id": "107453b04a4a9e7b",
   "outputs": [],
   "execution_count": 7
  },
  {
   "cell_type": "code",
   "id": "initial_id",
   "metadata": {
    "collapsed": true,
    "jupyter": {
     "outputs_hidden": true
    },
    "ExecuteTime": {
     "end_time": "2024-04-14T02:57:20.824934Z",
     "start_time": "2024-04-14T02:57:20.819975Z"
    }
   },
   "source": [
    "import matplotlib.pyplot as plt\n",
    "from qiskit_ibm_provider import IBMProvider\n",
    "from qiskit import QuantumCircuit, transpile"
   ],
   "outputs": [],
   "execution_count": 8
  },
  {
   "metadata": {
    "ExecuteTime": {
     "end_time": "2024-04-14T02:57:20.832769Z",
     "start_time": "2024-04-14T02:57:20.825868Z"
    }
   },
   "cell_type": "code",
   "source": "IBMProvider.save_account(token=config.IBMQ_TOKEN, overwrite=True)",
   "id": "8c4f5263539e08ac",
   "outputs": [],
   "execution_count": 9
  },
  {
   "cell_type": "code",
   "id": "596926d189e3c0e4",
   "metadata": {
    "ExecuteTime": {
     "end_time": "2024-04-14T02:57:20.838160Z",
     "start_time": "2024-04-14T02:57:20.833422Z"
    }
   },
   "source": [
    "circuit = QuantumCircuit(2, 2)\n",
    "\n",
    "circuit.h(0)\n",
    "circuit.cx(0, 1)\n",
    "circuit.barrier()\n",
    "circuit.measure(0, 0)\n",
    "circuit.measure(1, 1)\n",
    "circuit.draw()"
   ],
   "outputs": [
    {
     "data": {
      "text/plain": [
       "     ┌───┐      ░ ┌─┐   \n",
       "q_0: ┤ H ├──■───░─┤M├───\n",
       "     └───┘┌─┴─┐ ░ └╥┘┌─┐\n",
       "q_1: ─────┤ X ├─░──╫─┤M├\n",
       "          └───┘ ░  ║ └╥┘\n",
       "c: 2/══════════════╩══╩═\n",
       "                   0  1 "
      ],
      "text/html": [
       "<pre style=\"word-wrap: normal;white-space: pre;background: #fff0;line-height: 1.1;font-family: &quot;Courier New&quot;,Courier,monospace\">     ┌───┐      ░ ┌─┐   \n",
       "q_0: ┤ H ├──■───░─┤M├───\n",
       "     └───┘┌─┴─┐ ░ └╥┘┌─┐\n",
       "q_1: ─────┤ X ├─░──╫─┤M├\n",
       "          └───┘ ░  ║ └╥┘\n",
       "c: 2/══════════════╩══╩═\n",
       "                   0  1 </pre>"
      ]
     },
     "execution_count": 10,
     "metadata": {},
     "output_type": "execute_result"
    }
   ],
   "execution_count": 10
  },
  {
   "metadata": {},
   "cell_type": "markdown",
   "source": "# 1. Run the circuit on a real quantum computer",
   "id": "299a5ad95bc19558"
  },
  {
   "cell_type": "code",
   "id": "fa82ce5879a081d4",
   "metadata": {
    "ExecuteTime": {
     "end_time": "2024-04-14T02:57:28.943629Z",
     "start_time": "2024-04-14T02:57:20.838945Z"
    }
   },
   "source": [
    "provider = IBMProvider()\n",
    "\n",
    "backend = provider.get_backend(\"ibm_osaka\")\n",
    "\n",
    "qc_basic = transpile(circuit, backend)\n",
    "job = backend.run(qc_basic, shots=1024)\n",
    "job_id = job.job_id()\n",
    "print(job_id)\n",
    "\n",
    "job = backend.retrieve_job(job_id)\n",
    "result = job.result()\n",
    "counts = result.get_counts()\n",
    "print(counts)\n",
    "\n"
   ],
   "outputs": [
    {
     "name": "stdout",
     "output_type": "stream",
     "text": [
      "crdmc60dqdn000835a8g\n"
     ]
    },
    {
     "ename": "AttributeError",
     "evalue": "'IBMBackend' object has no attribute 'retrieve_job'",
     "output_type": "error",
     "traceback": [
      "\u001B[0;31m---------------------------------------------------------------------------\u001B[0m",
      "\u001B[0;31mAttributeError\u001B[0m                            Traceback (most recent call last)",
      "File \u001B[0;32m~/PycharmProjects/Ftl_quantum/venv/lib/python3.10/site-packages/qiskit_ibm_provider/ibm_backend.py:250\u001B[0m, in \u001B[0;36mIBMBackend.__getattr__\u001B[0;34m(self, name)\u001B[0m\n\u001B[1;32m    249\u001B[0m \u001B[38;5;28;01mtry\u001B[39;00m:\n\u001B[0;32m--> 250\u001B[0m     \u001B[38;5;28;01mreturn\u001B[39;00m \u001B[38;5;28;43mself\u001B[39;49m\u001B[38;5;241;43m.\u001B[39;49m\u001B[43m_configuration\u001B[49m\u001B[38;5;241;43m.\u001B[39;49m\u001B[38;5;21;43m__getattribute__\u001B[39;49m\u001B[43m(\u001B[49m\u001B[43mname\u001B[49m\u001B[43m)\u001B[49m\n\u001B[1;32m    251\u001B[0m \u001B[38;5;28;01mexcept\u001B[39;00m \u001B[38;5;167;01mAttributeError\u001B[39;00m:\n",
      "\u001B[0;31mAttributeError\u001B[0m: 'PulseBackendConfiguration' object has no attribute 'retrieve_job'",
      "\nDuring handling of the above exception, another exception occurred:\n",
      "\u001B[0;31mAttributeError\u001B[0m                            Traceback (most recent call last)",
      "Cell \u001B[0;32mIn[11], line 10\u001B[0m\n\u001B[1;32m      7\u001B[0m job_id \u001B[38;5;241m=\u001B[39m job\u001B[38;5;241m.\u001B[39mjob_id()\n\u001B[1;32m      8\u001B[0m \u001B[38;5;28mprint\u001B[39m(job_id)\n\u001B[0;32m---> 10\u001B[0m job \u001B[38;5;241m=\u001B[39m \u001B[43mbackend\u001B[49m\u001B[38;5;241;43m.\u001B[39;49m\u001B[43mretrieve_job\u001B[49m(job_id)\n\u001B[1;32m     11\u001B[0m result \u001B[38;5;241m=\u001B[39m job\u001B[38;5;241m.\u001B[39mresult()\n\u001B[1;32m     12\u001B[0m counts \u001B[38;5;241m=\u001B[39m result\u001B[38;5;241m.\u001B[39mget_counts()\n",
      "File \u001B[0;32m~/PycharmProjects/Ftl_quantum/venv/lib/python3.10/site-packages/qiskit_ibm_provider/ibm_backend.py:252\u001B[0m, in \u001B[0;36mIBMBackend.__getattr__\u001B[0;34m(self, name)\u001B[0m\n\u001B[1;32m    250\u001B[0m     \u001B[38;5;28;01mreturn\u001B[39;00m \u001B[38;5;28mself\u001B[39m\u001B[38;5;241m.\u001B[39m_configuration\u001B[38;5;241m.\u001B[39m\u001B[38;5;21m__getattribute__\u001B[39m(name)\n\u001B[1;32m    251\u001B[0m \u001B[38;5;28;01mexcept\u001B[39;00m \u001B[38;5;167;01mAttributeError\u001B[39;00m:\n\u001B[0;32m--> 252\u001B[0m     \u001B[38;5;28;01mraise\u001B[39;00m \u001B[38;5;167;01mAttributeError\u001B[39;00m(\n\u001B[1;32m    253\u001B[0m         \u001B[38;5;124m\"\u001B[39m\u001B[38;5;124m'\u001B[39m\u001B[38;5;132;01m{}\u001B[39;00m\u001B[38;5;124m'\u001B[39m\u001B[38;5;124m object has no attribute \u001B[39m\u001B[38;5;124m'\u001B[39m\u001B[38;5;132;01m{}\u001B[39;00m\u001B[38;5;124m'\u001B[39m\u001B[38;5;124m\"\u001B[39m\u001B[38;5;241m.\u001B[39mformat(\n\u001B[1;32m    254\u001B[0m             \u001B[38;5;28mself\u001B[39m\u001B[38;5;241m.\u001B[39m\u001B[38;5;18m__class__\u001B[39m\u001B[38;5;241m.\u001B[39m\u001B[38;5;18m__name__\u001B[39m, name\n\u001B[1;32m    255\u001B[0m         )\n\u001B[1;32m    256\u001B[0m     )\n",
      "\u001B[0;31mAttributeError\u001B[0m: 'IBMBackend' object has no attribute 'retrieve_job'"
     ]
    }
   ],
   "execution_count": 11
  }
 ],
 "metadata": {
  "kernelspec": {
   "display_name": "Python 3 (ipykernel)",
   "language": "python",
   "name": "python3"
  },
  "language_info": {
   "codemirror_mode": {
    "name": "ipython",
    "version": 3
   },
   "file_extension": ".py",
   "mimetype": "text/x-python",
   "name": "python",
   "nbconvert_exporter": "python",
   "pygments_lexer": "ipython3",
   "version": "3.10.12"
  }
 },
 "nbformat": 4,
 "nbformat_minor": 5
}
