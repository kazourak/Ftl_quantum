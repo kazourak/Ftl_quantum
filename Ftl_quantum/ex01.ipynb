{
 "cells": [
  {
   "cell_type": "code",
   "execution_count": 45,
   "id": "initial_id",
   "metadata": {
    "ExecuteTime": {
     "end_time": "2024-04-13T14:01:41.861372Z",
     "start_time": "2024-04-13T14:01:41.859007Z"
    }
   },
   "outputs": [],
   "source": [
    "import config"
   ]
  },
  {
   "cell_type": "code",
   "execution_count": 46,
   "id": "66d2ff0abc7893d1",
   "metadata": {
    "ExecuteTime": {
     "end_time": "2024-04-13T14:01:41.874414Z",
     "start_time": "2024-04-13T14:01:41.866323Z"
    }
   },
   "outputs": [],
   "source": [
    "from qiskit_ibm_provider import IBMProvider\n",
    "IBMProvider.save_account(token=config.IBMQ_TOKEN, overwrite=True)"
   ]
  },
  {
   "cell_type": "code",
   "execution_count": 47,
   "id": "5a3a27d092abbfc2",
   "metadata": {
    "ExecuteTime": {
     "end_time": "2024-04-13T14:01:54.169116Z",
     "start_time": "2024-04-13T14:01:41.875476Z"
    }
   },
   "outputs": [],
   "source": [
    "provider = IBMProvider()\n",
    "\n",
    "simulator_backend = []\n",
    "real_backend = []\n",
    "for backends in provider.backends():\n",
    "    configuration = backends.configuration()\n",
    "    data_backend = {\n",
    "        \"name\": configuration.backend_name,\n",
    "        \"n_qubits\": configuration.n_qubits,\n",
    "        \"pending_jobs\": backends.status().pending_jobs\n",
    "    }\n",
    "    \n",
    "    if configuration.simulator:\n",
    "        simulator_backend.append(data_backend)\n",
    "    else:\n",
    "        real_backend.append(data_backend)"
   ]
  },
  {
   "cell_type": "code",
   "execution_count": 48,
   "id": "a0d2234fa28d8b0f",
   "metadata": {
    "ExecuteTime": {
     "end_time": "2024-04-13T14:01:54.172964Z",
     "start_time": "2024-04-13T14:01:54.170092Z"
    }
   },
   "outputs": [
    {
     "name": "stdout",
     "output_type": "stream",
     "text": [
      "Simulator backends available:\n",
      "simulator_mps has 0 pending jobs\n",
      "simulator_statevector has 0 pending jobs\n",
      "simulator_stabilizer has 0 pending jobs\n",
      "ibmq_qasm_simulator has 0 pending jobs\n",
      "simulator_extended_stabilizer has 0 pending jobs\n",
      "\n",
      "Real backends available:\n",
      "ibm_brisbane with 127 qubits and 1159 pending jobs\n",
      "ibm_kyoto with 127 qubits and 14 pending jobs\n",
      "ibm_osaka with 127 qubits and 17 pending jobs\n"
     ]
    }
   ],
   "source": [
    "print(\"Simulator backends available:\")\n",
    "for backend in simulator_backend:\n",
    "    print(f\"{backend['name']} has {backend['pending_jobs']} pending jobs\")\n",
    "\n",
    "print(\"\\nReal backends available:\")\n",
    "for backend in real_backend:\n",
    "    print(f\"{backend['name']} with {backend['n_qubits']} qubits and {backend['pending_jobs']} pending jobs\")"
   ]
  }
 ],
 "metadata": {
  "kernelspec": {
   "display_name": "Python 3 (ipykernel)",
   "language": "python",
   "name": "python3"
  },
  "language_info": {
   "codemirror_mode": {
    "name": "ipython",
    "version": 3
   },
   "file_extension": ".py",
   "mimetype": "text/x-python",
   "name": "python",
   "nbconvert_exporter": "python",
   "pygments_lexer": "ipython3",
   "version": "3.10.12"
  }
 },
 "nbformat": 4,
 "nbformat_minor": 5
}
