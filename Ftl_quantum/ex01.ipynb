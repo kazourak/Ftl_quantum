{
 "cells": [
  {
   "cell_type": "code",
   "id": "initial_id",
   "metadata": {
    "ExecuteTime": {
     "end_time": "2024-04-13T14:16:32.364853Z",
     "start_time": "2024-04-13T14:16:32.362444Z"
    }
   },
   "source": [
    "import config"
   ],
   "outputs": [],
   "execution_count": 5
  },
  {
   "cell_type": "code",
   "id": "66d2ff0abc7893d1",
   "metadata": {
    "ExecuteTime": {
     "end_time": "2024-04-13T14:16:32.376533Z",
     "start_time": "2024-04-13T14:16:32.369348Z"
    }
   },
   "source": [
    "from qiskit_ibm_provider import IBMProvider\n",
    "IBMProvider.save_account(token=config.IBMQ_TOKEN, overwrite=True)"
   ],
   "outputs": [],
   "execution_count": 6
  },
  {
   "metadata": {},
   "cell_type": "markdown",
   "source": "# 1. List all the available backends",
   "id": "80351d2b2401ecc8"
  },
  {
   "cell_type": "code",
   "id": "5a3a27d092abbfc2",
   "metadata": {
    "ExecuteTime": {
     "end_time": "2024-04-13T14:16:43.249725Z",
     "start_time": "2024-04-13T14:16:32.377575Z"
    }
   },
   "source": [
    "provider = IBMProvider()\n",
    "\n",
    "simulator_backend = []\n",
    "real_backend = []\n",
    "for backends in provider.backends():\n",
    "    configuration = backends.configuration()\n",
    "    data_backend = {\n",
    "        \"name\": configuration.backend_name,\n",
    "        \"n_qubits\": configuration.n_qubits,\n",
    "        \"pending_jobs\": backends.status().pending_jobs\n",
    "    }\n",
    "    \n",
    "    if configuration.simulator:\n",
    "        simulator_backend.append(data_backend)\n",
    "    else:\n",
    "        real_backend.append(data_backend)"
   ],
   "outputs": [],
   "execution_count": 7
  },
  {
   "metadata": {},
   "cell_type": "markdown",
   "source": "# 2. Print the available backends",
   "id": "42ea5948202c08c3"
  },
  {
   "cell_type": "code",
   "id": "a0d2234fa28d8b0f",
   "metadata": {
    "ExecuteTime": {
     "end_time": "2024-04-13T14:16:43.253364Z",
     "start_time": "2024-04-13T14:16:43.250539Z"
    }
   },
   "source": [
    "print(\"Simulator backends available:\")\n",
    "for backend in simulator_backend:\n",
    "    print(f\"\\t{backend['name']} has {backend['pending_jobs']} pending jobs\")\n",
    "\n",
    "print(\"\\nReal backends available:\")\n",
    "for backend in real_backend:\n",
    "    print(f\"\\t{backend['name']} with {backend['n_qubits']} qubits and {backend['pending_jobs']} pending jobs\")"
   ],
   "outputs": [
    {
     "name": "stdout",
     "output_type": "stream",
     "text": [
      "Simulator backends available:\n",
      "\tibmq_qasm_simulator has 0 pending jobs\n",
      "\tsimulator_extended_stabilizer has 0 pending jobs\n",
      "\tsimulator_mps has 0 pending jobs\n",
      "\tsimulator_statevector has 0 pending jobs\n",
      "\tsimulator_stabilizer has 0 pending jobs\n",
      "\n",
      "Real backends available:\n",
      "\tibm_osaka with 127 qubits and 17 pending jobs\n",
      "\tibm_brisbane with 127 qubits and 1160 pending jobs\n",
      "\tibm_kyoto with 127 qubits and 16 pending jobs\n"
     ]
    }
   ],
   "execution_count": 8
  }
 ],
 "metadata": {
  "kernelspec": {
   "display_name": "Python 3 (ipykernel)",
   "language": "python",
   "name": "python3"
  },
  "language_info": {
   "codemirror_mode": {
    "name": "ipython",
    "version": 3
   },
   "file_extension": ".py",
   "mimetype": "text/x-python",
   "name": "python",
   "nbconvert_exporter": "python",
   "pygments_lexer": "ipython3",
   "version": "3.10.12"
  }
 },
 "nbformat": 4,
 "nbformat_minor": 5
}
