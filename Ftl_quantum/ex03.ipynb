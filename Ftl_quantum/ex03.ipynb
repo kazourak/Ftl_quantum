{
 "cells": [
  {
   "cell_type": "code",
   "id": "initial_id",
   "metadata": {
    "collapsed": true,
    "jupyter": {
     "outputs_hidden": true
    },
    "ExecuteTime": {
     "end_time": "2024-04-14T02:41:50.885058Z",
     "start_time": "2024-04-14T02:41:50.882755Z"
    }
   },
   "source": [
    "import matplotlib.pyplot as plt\n",
    "from qiskit import QuantumCircuit, QuantumRegister, ClassicalRegister, Aer"
   ],
   "outputs": [],
   "execution_count": 66
  },
  {
   "metadata": {},
   "cell_type": "markdown",
   "source": [
    "# 1. Create a quantum circuit with 2 qubits and 2 classical bits\n",
    "**cx** is a controlled-X gate, which is a **CNOT gate**. It **flips** the second qubit if the first qubit is **|1>**.\n",
    "**controler** qubit is the first qubit, and the **target** qubit is the second qubit.\n",
    "\n",
    "**barrier** is a visual aid to separate the operations in the circuit. It also acts as a directive for circuit compilation to separate pieces of a circuit so that any optimizations or re-writes are constrained to only act between barriers."
   ],
   "id": "be2ec68f8bafd234"
  },
  {
   "cell_type": "code",
   "id": "596926d189e3c0e4",
   "metadata": {
    "ExecuteTime": {
     "end_time": "2024-04-14T02:40:44.053947Z",
     "start_time": "2024-04-14T02:40:44.049100Z"
    }
   },
   "source": [
    "circuit = QuantumCircuit(2, 2)\n",
    "\n",
    "circuit.h(0)\n",
    "circuit.cx(0, 1)\n",
    "circuit.barrier()\n",
    "circuit.measure(0, 0)\n",
    "circuit.measure(1, 1)\n",
    "circuit.draw()"
   ],
   "outputs": [
    {
     "data": {
      "text/plain": [
       "     ┌───┐      ░ ┌─┐   \n",
       "q_0: ┤ H ├──■───░─┤M├───\n",
       "     └───┘┌─┴─┐ ░ └╥┘┌─┐\n",
       "q_1: ─────┤ X ├─░──╫─┤M├\n",
       "          └───┘ ░  ║ └╥┘\n",
       "c: 2/══════════════╩══╩═\n",
       "                   0  1 "
      ],
      "text/html": [
       "<pre style=\"word-wrap: normal;white-space: pre;background: #fff0;line-height: 1.1;font-family: &quot;Courier New&quot;,Courier,monospace\">     ┌───┐      ░ ┌─┐   \n",
       "q_0: ┤ H ├──■───░─┤M├───\n",
       "     └───┘┌─┴─┐ ░ └╥┘┌─┐\n",
       "q_1: ─────┤ X ├─░──╫─┤M├\n",
       "          └───┘ ░  ║ └╥┘\n",
       "c: 2/══════════════╩══╩═\n",
       "                   0  1 </pre>"
      ]
     },
     "execution_count": 64,
     "metadata": {},
     "output_type": "execute_result"
    }
   ],
   "execution_count": 64
  },
  {
   "metadata": {},
   "cell_type": "markdown",
   "source": "# 2. Simulate the circuit with the qasm simulator",
   "id": "299a5ad95bc19558"
  },
  {
   "cell_type": "code",
   "id": "fa82ce5879a081d4",
   "metadata": {
    "ExecuteTime": {
     "end_time": "2024-04-14T02:41:42.865912Z",
     "start_time": "2024-04-14T02:41:42.749168Z"
    }
   },
   "source": [
    "backend = Aer.get_backend('qasm_simulator')\n",
    "\n",
    "n_shots = 500\n",
    "\n",
    "job = backend.run(circuit, shots=n_shots)\n",
    "result = job.result()\n",
    "counts = result.get_counts()\n",
    "\n",
    "d_zero = counts['00'] / n_shots\n",
    "d_one = counts['11'] / n_shots\n",
    "\n",
    "bars = plt.bar(['00', '11'], [d_zero, d_one])\n",
    "\n",
    "for bar in bars:\n",
    "    yval = bar.get_height()\n",
    "    plt.text(bar.get_x() + bar.get_width()/2.0, yval, round(yval, 3), va='bottom')"
   ],
   "outputs": [
    {
     "data": {
      "text/plain": [
       "<Figure size 640x480 with 1 Axes>"
      ],
      "image/png": "[encoded data removed]"
     },
     "metadata": {},
     "output_type": "display_data"
    }
   ],
   "execution_count": 65
  }
 ],
 "metadata": {
  "kernelspec": {
   "display_name": "Python 3 (ipykernel)",
   "language": "python",
   "name": "python3"
  },
  "language_info": {
   "codemirror_mode": {
    "name": "ipython",
    "version": 3
   },
   "file_extension": ".py",
   "mimetype": "text/x-python",
   "name": "python",
   "nbconvert_exporter": "python",
   "pygments_lexer": "ipython3",
   "version": "3.10.12"
  }
 },
 "nbformat": 4,
 "nbformat_minor": 5
}
